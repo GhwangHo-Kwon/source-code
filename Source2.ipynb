{
 "cells": [
  {
   "cell_type": "markdown",
   "metadata": {},
   "source": [
    "# 15.3 지도학습 모델의 종류\n",
    "## 결정트리\n",
    "### 데이터 분석 및 준비"
   ]
  },
  {
   "cell_type": "code",
   "execution_count": 5,
   "metadata": {
    "scrolled": true
   },
   "outputs": [
    {
     "name": "stdout",
     "output_type": "stream",
     "text": [
      "[0, 1, 2, 3, 4, 5, 6, 7]\n",
      "[[7, 6, 1, 0, 3, 2], [5, 4]]\n"
     ]
    }
   ],
   "source": [
    "import numpy as np\n",
    "from sklearn.model_selection import train_test_split\n",
    "y = range(8)\n",
    "print(list(y))\n",
    "print(train_test_split(y))"
   ]
  },
  {
   "cell_type": "code",
   "execution_count": 6,
   "metadata": {},
   "outputs": [
    {
     "name": "stdout",
     "output_type": "stream",
     "text": [
      "[1, 3, 4, 7, 5, 6] [2, 0]\n"
     ]
    }
   ],
   "source": [
    "a, b = train_test_split(y)\n",
    "print(a, b)"
   ]
  },
  {
   "cell_type": "code",
   "execution_count": 7,
   "metadata": {},
   "outputs": [
    {
     "name": "stdout",
     "output_type": "stream",
     "text": [
      "[0, 1, 2, 3, 4, 5]\n",
      "[[5, 2, 4], [0, 3, 1]]\n"
     ]
    }
   ],
   "source": [
    "#p263\n",
    "import numpy as np\n",
    "from sklearn.model_selection import train_test_split\n",
    "y = range(6)\n",
    "print(list(y))\n",
    "print(train_test_split(y, test_size=0.5))"
   ]
  },
  {
   "cell_type": "code",
   "execution_count": 30,
   "metadata": {},
   "outputs": [
    {
     "name": "stdout",
     "output_type": "stream",
     "text": [
      "[[ 0  1]\n",
      " [ 2  3]\n",
      " [ 4  5]\n",
      " [ 6  7]\n",
      " [ 8  9]\n",
      " [10 11]]\n",
      "[0, 1, 2, 3, 4, 5]\n"
     ]
    }
   ],
   "source": [
    "import numpy as np\n",
    "from sklearn.model_selection import train_test_split\n",
    "X = np.arange(12).reshape((6, 2))\n",
    "y = range(6)\n",
    "print(X)\n",
    "print(list(y))"
   ]
  },
  {
   "cell_type": "code",
   "execution_count": 31,
   "metadata": {},
   "outputs": [
    {
     "name": "stdout",
     "output_type": "stream",
     "text": [
      "[[ 8  9]\n",
      " [ 2  3]\n",
      " [10 11]\n",
      " [ 6  7]]\n",
      "[4, 1, 5, 3]\n",
      "[[0 1]\n",
      " [4 5]]\n",
      "[0, 2]\n"
     ]
    }
   ],
   "source": [
    "# 6쌍의 입력데이터와 6개의 라벨(타켓)\n",
    "import numpy as np\n",
    "from sklearn.model_selection import train_test_split\n",
    "X = np.arange(12).reshape((6, 2))\n",
    "y = range(6)\n",
    "X_train, X_test, y_train, y_test = train_test_split(X, y, test_size=0.33)\n",
    "print(X_train)\n",
    "print(y_train)\n",
    "print(X_test)\n",
    "print(y_test)"
   ]
  },
  {
   "cell_type": "code",
   "execution_count": 10,
   "metadata": {},
   "outputs": [
    {
     "name": "stdout",
     "output_type": "stream",
     "text": [
      "[[ 0  1  2  3  4]\n",
      " [10 11 12 13 14]]\n",
      "[0, 2]\n",
      "[[5 6 7 8 9]]\n",
      "[1]\n"
     ]
    }
   ],
   "source": [
    "X = np.arange(15).reshape((3, 5))\n",
    "y = range(3)\n",
    "X_train, X_test, y_train, y_test = train_test_split(X, y, test_size=0.33)\n",
    "print(X_train)\n",
    "print(y_train)\n",
    "print(X_test)\n",
    "print(y_test)"
   ]
  },
  {
   "cell_type": "markdown",
   "metadata": {},
   "source": [
    "### 학습 및 예측"
   ]
  },
  {
   "cell_type": "code",
   "execution_count": 11,
   "metadata": {},
   "outputs": [
    {
     "name": "stdout",
     "output_type": "stream",
     "text": [
      "예측:\n",
      " [2 2 2 1 1 1 1 0 2 0 1 2 0 2 1 2 2 1 2 2 0 1 1 0 1 1 0 0 0 1 2 2 0 0 1 0 0\n",
      " 0 1 0 1 0 2 1 1 2 1 2 0 0 1 1 2 0 2 2 2 1 2 0 2 0 0 0 2 0 0 2 0 0 1 2 1 1\n",
      " 2]\n",
      "정답(y_test):\n",
      " [2 2 2 1 1 1 1 0 2 0 1 2 0 2 1 2 2 1 2 2 0 1 1 0 1 1 0 0 0 1 2 2 0 0 1 0 0\n",
      " 0 1 0 1 0 2 1 1 2 1 2 0 0 1 1 1 0 2 1 2 2 2 0 2 0 0 0 2 0 0 2 0 0 1 2 1 1\n",
      " 2]\n"
     ]
    }
   ],
   "source": [
    "#p264\n",
    "from sklearn import datasets\n",
    "iris = datasets.load_iris()\n",
    "X = iris.data\n",
    "y = iris.target\n",
    "from sklearn.model_selection import train_test_split\n",
    "X_train, X_test, y_train, y_test = train_test_split(X, y, test_size=.5)\n",
    "from sklearn import tree\n",
    "clf = tree.DecisionTreeClassifier()\n",
    "clf.fit(X_train, y_train)\n",
    "predictions = clf.predict(X_test)\n",
    "print('예측:\\n', predictions)\n",
    "print('정답(y_test):\\n', y_test)"
   ]
  },
  {
   "cell_type": "markdown",
   "metadata": {},
   "source": [
    "### 테스트"
   ]
  },
  {
   "cell_type": "code",
   "execution_count": 12,
   "metadata": {},
   "outputs": [
    {
     "name": "stdout",
     "output_type": "stream",
     "text": [
      "0.9\n"
     ]
    }
   ],
   "source": [
    "#p265\n",
    "from sklearn.metrics import accuracy_score\n",
    "a = [1, 2, 3, 4, 5, 6, 7, 8, 9, 10]\n",
    "b = [1, 2, 4, 4, 5, 6, 7, 8, 9, 10]\n",
    "print(accuracy_score(a, b))"
   ]
  },
  {
   "cell_type": "code",
   "execution_count": 13,
   "metadata": {},
   "outputs": [
    {
     "name": "stdout",
     "output_type": "stream",
     "text": [
      "0.96\n"
     ]
    }
   ],
   "source": [
    "from sklearn.metrics import accuracy_score\n",
    "print(accuracy_score(y_test, predictions))"
   ]
  },
  {
   "cell_type": "markdown",
   "metadata": {},
   "source": [
    "## 최근접 이웃 탐색 모델\n",
    "### K-최근접이웃 모델"
   ]
  },
  {
   "cell_type": "code",
   "execution_count": 35,
   "metadata": {},
   "outputs": [
    {
     "data": {
      "text/plain": [
       "KNeighborsClassifier(n_neighbors=3)"
      ]
     },
     "execution_count": 35,
     "metadata": {},
     "output_type": "execute_result"
    }
   ],
   "source": [
    "#p266\n",
    "X = [[0], [1], [2], [3], [4], [5]]\n",
    "y = [0, 0, 0, 1, 1, 1]\n",
    "from sklearn.neighbors import KNeighborsClassifier\n",
    "neigh = KNeighborsClassifier(n_neighbors=3)\n",
    "neigh.fit(X, y)"
   ]
  },
  {
   "cell_type": "code",
   "execution_count": 36,
   "metadata": {},
   "outputs": [
    {
     "name": "stdout",
     "output_type": "stream",
     "text": [
      "[1]\n",
      "[[0.33333333 0.66666667]]\n"
     ]
    }
   ],
   "source": [
    "#p267\n",
    "print(neigh.predict([[2.8]]))\n",
    "print(neigh.predict_proba([[2.8]]))"
   ]
  },
  {
   "cell_type": "code",
   "execution_count": 37,
   "metadata": {
    "scrolled": true
   },
   "outputs": [
    {
     "name": "stdout",
     "output_type": "stream",
     "text": [
      "[0]\n",
      "[[0.66666667 0.33333333]]\n"
     ]
    }
   ],
   "source": [
    "print(neigh.predict([[2.3]]))\n",
    "print(neigh.predict_proba([[2.3]]))"
   ]
  },
  {
   "cell_type": "code",
   "execution_count": null,
   "metadata": {},
   "outputs": [],
   "source": [
    "# 2차원 예제"
   ]
  },
  {
   "cell_type": "code",
   "execution_count": 21,
   "metadata": {},
   "outputs": [
    {
     "data": {
      "text/plain": [
       "<matplotlib.legend.Legend at 0x1739c60f1c0>"
      ]
     },
     "execution_count": 21,
     "metadata": {},
     "output_type": "execute_result"
    },
    {
     "data": {
      "image/png": "[encoded data removed]",
      "text/plain": [
       "<Figure size 432x288 with 1 Axes>"
      ]
     },
     "metadata": {
      "needs_background": "light"
     },
     "output_type": "display_data"
    }
   ],
   "source": [
    "from sklearn.datasets import load_iris\n",
    "import matplotlib.pyplot as plt\n",
    "iris = load_iris()\n",
    "sepal = iris.data[:100, 0:2]\n",
    "kind = iris.target[:100]\n",
    "plt.xlabel('Sepal Length')\n",
    "plt.ylabel('Sepal Width')\n",
    "plt.plot(sepal[kind==0][:,0], sepal[kind==0][:,1], \"ro\", label='Setosa')\n",
    "plt.plot(sepal[kind==1][:,0], sepal[kind==1][:,1], \"bo\", label='Versicolor')\n",
    "#plt.plot(sepal[kind==2][:,0], sepal[kind==2][:,1], \"yo\", label='Virginica')\n",
    "plt.legend()"
   ]
  },
  {
   "cell_type": "code",
   "execution_count": 27,
   "metadata": {},
   "outputs": [
    {
     "data": {
      "text/plain": [
       "KNeighborsClassifier(n_neighbors=3)"
      ]
     },
     "execution_count": 27,
     "metadata": {},
     "output_type": "execute_result"
    }
   ],
   "source": [
    "from sklearn.model_selection import train_test_split\n",
    "X_train, X_test, y_train, y_test = train_test_split(sepal, kind)\n",
    "from sklearn.neighbors import KNeighborsClassifier\n",
    "clf = KNeighborsClassifier(n_neighbors=3)\n",
    "clf.fit(X_train, y_train)"
   ]
  },
  {
   "cell_type": "code",
   "execution_count": 36,
   "metadata": {},
   "outputs": [
    {
     "name": "stdout",
     "output_type": "stream",
     "text": [
      "[0]\n",
      "[[0. 1.]]\n",
      "예측 [1 0 0 1 1 0 1 1 1 0 1 0 0 1 1 0 1 0 1 0 1 1 0 0 0]\n",
      "답 : [1 0 0 1 1 0 1 1 1 0 1 0 0 1 1 0 1 0 1 0 1 1 0 0 0]\n"
     ]
    }
   ],
   "source": [
    "print(clf.predict([[5.5, 3.9]]))\n",
    "print(clf.predict_proba([[5.5, 2.5]]))\n",
    "clf.fit(X_train, y_train)\n",
    "print(\"예측\",clf.predict(X_test))\n",
    "print('답 :',  y_test)"
   ]
  },
  {
   "cell_type": "code",
   "execution_count": null,
   "metadata": {},
   "outputs": [],
   "source": [
    "print(neigh.predict([[2.8]]))\n",
    "print(neigh.predict_proba([[2.8]]))\n",
    "clf.fit(X_train, y_train)\n",
    "print(\"테스트 세트 예측: {}\".format(clf.predict(X_test)))"
   ]
  },
  {
   "cell_type": "code",
   "execution_count": null,
   "metadata": {},
   "outputs": [],
   "source": [
    "# KNeighborsClassifier로 회귀문제 해결"
   ]
  },
  {
   "cell_type": "code",
   "execution_count": 42,
   "metadata": {},
   "outputs": [
    {
     "data": {
      "text/plain": [
       "array([[ 0,  1],\n",
       "       [ 2,  3],\n",
       "       [ 4,  5],\n",
       "       [ 6,  7],\n",
       "       [ 8,  9],\n",
       "       [10, 11],\n",
       "       [12, 13],\n",
       "       [14, 15]])"
      ]
     },
     "execution_count": 42,
     "metadata": {},
     "output_type": "execute_result"
    }
   ],
   "source": [
    "a = np.arange(16)\n",
    "a = a.reshape(-1, 2)\n",
    "a"
   ]
  },
  {
   "cell_type": "code",
   "execution_count": 44,
   "metadata": {},
   "outputs": [
    {
     "name": "stdout",
     "output_type": "stream",
     "text": [
      "0.9702432201026403\n"
     ]
    },
    {
     "data": {
      "text/plain": [
       "array([273.])"
      ]
     },
     "execution_count": 44,
     "metadata": {},
     "output_type": "execute_result"
    }
   ],
   "source": [
    "length = np.array([8.4, 13.7, 15.0, 16.2, 17.4, 18.0, 18.7, 19.0, 19.6, 20.0, 21.0, 21.0, 21.0, 21.3, 22.0, 22.0, 22.0, 22.0, 22.0, 22.5, 22.5, 22.7, 23.0, 23.5, 24.0, 24.0, 24.6, 25.0, 25.6, 26.5, 27.3, 27.5, 27.5, 27.5, 28.0, 28.7, 30.0, 32.8, 34.5, 35.0, 36.5, 36.0, 37.0, 37.0, 39.0, 39.0, 39.0, 40.0, 40.0, 40.0, 40.0, 42.0, 43.0, 43.0, 43.5, 44.0]) \n",
    "price = np.array([5.9, 32.0, 40.0, 51.5, 70.0, 100.0, 78.0, 80.0, 85.0, 85.0, 110.0, 115.0, 125.0, 130.0, 120.0, 120.0, 130.0, 135.0, 110.0, 130.0, 150.0, 145.0, 150.0, 170.0, 225.0, 145.0, 188.0, 180.0, 197.0, 218.0, 300.0, 260.0, 265.0, 250.0, 250.0, 300.0, 320.0, 514.0, 556.0, 840.0, 685.0, 700.0, 700.0, 690.0, 900.0, 650.0, 820.0, 850.0, 900.0, 1015.0, 820.0, 1100.0, 1000.0, 1100.0, 1000.0, 1000.0])\n",
    "from sklearn.model_selection import train_test_split \n",
    "X_train, X_test, y_train, y_test = train_test_split(length, price)\n",
    "X_train = X_train.reshape(-1, 1)\n",
    "X_test = X_test.reshape(-1, 1)\n",
    "from sklearn.neighbors import KNeighborsRegressor\n",
    "knr = KNeighborsRegressor()\n",
    "knr.fit(X_train, y_train)\n",
    "print(knr.score(X_test, y_test))\n",
    "knr.predict([[30]])"
   ]
  },
  {
   "cell_type": "code",
   "execution_count": 89,
   "metadata": {},
   "outputs": [
    {
     "data": {
      "text/plain": [
       "[<matplotlib.lines.Line2D at 0x1739cce6f10>]"
      ]
     },
     "execution_count": 89,
     "metadata": {},
     "output_type": "execute_result"
    },
    {
     "data": {
      "image/png": "[encoded data removed]",
      "text/plain": [
       "<Figure size 432x288 with 1 Axes>"
      ]
     },
     "metadata": {
      "needs_background": "light"
     },
     "output_type": "display_data"
    }
   ],
   "source": [
    "from sklearn.datasets import load_iris\n",
    "import matplotlib.pyplot as plt\n",
    "plt.xlabel('Length')\n",
    "plt.ylabel('Price')\n",
    "plt.plot(X_train, y_train, \"bo\")\n",
    "test = [30, 20, 40]\n",
    "test = np.array(test).reshape(-1, 1)\n",
    "plt.plot(test, knr.predict(test), \"ro\")"
   ]
  },
  {
   "cell_type": "code",
   "execution_count": null,
   "metadata": {},
   "outputs": [],
   "source": [
    "perch_length = np.array([8.4, 13.7, 15.0, 16.2, 17.4, 18.0, 18.7, 19.0, 19.6, 20.0, 21.0, 21.0, 21.0, 21.3, 22.0, 22.0, 22.0, 22.0, 22.0, 22.5, 22.5, 22.7, 23.0, 23.5, 24.0, 24.0, 24.6, 25.0, 25.6, 26.5, 27.3, 27.5, 27.5, 27.5, 28.0, 28.7, 30.0, 32.8, 34.5, 35.0, 36.5, 36.0, 37.0, 37.0, 39.0, 39.0, 39.0, 40.0, 40.0, 40.0, 40.0, 42.0, 43.0, 43.0, 43.5, 44.0]) \n",
    "perch_weight = np.array([5.9, 32.0, 40.0, 51.5, 70.0, 100.0, 78.0, 80.0, 85.0, 85.0, 110.0, 115.0, 125.0, 130.0, 120.0, 120.0, 130.0, 135.0, 110.0, 130.0, 150.0, 145.0, 150.0, 170.0, 225.0, 145.0, 188.0, 180.0, 197.0, 218.0, 300.0, 260.0, 265.0, 250.0, 250.0, 300.0, 320.0, 514.0, 556.0, 840.0, 685.0, 700.0, 700.0, 690.0, 900.0, 650.0, 820.0, 850.0, 900.0, 1015.0, 820.0, 1100.0, 1000.0, 1100.0, 1000.0, 1000.0])\n",
    "from sklearn.model_selection import train_test_split \n",
    "train_input, test_input, train_target, test_target = train_test_split(perch_length, perch_weight, random_state = 42)\n",
    "train_input = train_input.reshape(-1, 1)\n",
    "test_input = test_input.reshape(-1, 1)\n",
    "from sklearn.neighbors import KNeighborsRegressor\n",
    "knr = KNeighborsRegressor()\n",
    "knr.fit(train_input, train_target)\n",
    "print(knr.score(test_input, test_target))\n",
    "knr.predict([[30]])"
   ]
  },
  {
   "cell_type": "markdown",
   "metadata": {},
   "source": [
    "# KNeighborsClassifier를 이용한 Iris 데이터셋"
   ]
  },
  {
   "cell_type": "code",
   "execution_count": 38,
   "metadata": {},
   "outputs": [
    {
     "name": "stdout",
     "output_type": "stream",
     "text": [
      "예측:\n",
      " [1 1 2 1 0 0 0 1 1 0 1 2 0 0 0 1 2 1 0 0 2 0 2 1 2 2 1 1 0 1 1 2 1 2 0 2 1\n",
      " 2 1 1 2 1 2 0 1 1 1 2 2 0 2 1 1 1 0 0 1 1 1 1 1 0 2 1 0 2 0 2 0 0 2 2 2 0\n",
      " 1]\n",
      "정답(y_test):\n",
      " [1 1 2 1 0 0 0 1 1 0 1 2 0 0 0 1 2 1 0 0 2 0 2 1 2 2 2 1 0 1 1 2 1 2 0 2 1\n",
      " 2 1 1 2 1 2 0 1 1 1 2 2 0 2 1 1 1 0 0 1 1 1 1 1 0 2 1 0 2 0 2 0 0 2 2 2 0\n",
      " 1]\n"
     ]
    }
   ],
   "source": [
    "from sklearn import datasets\n",
    "iris = datasets.load_iris()\n",
    "X = iris.data\n",
    "y = iris.target\n",
    "from sklearn.model_selection import train_test_split\n",
    "X_train, X_test, y_train, y_test = train_test_split(X, y, test_size=.5)\n",
    "from sklearn.neighbors import KNeighborsClassifier\n",
    "clf = KNeighborsClassifier()\n",
    "clf.fit(X_train, y_train)\n",
    "predictions = clf.predict(X_test)\n",
    "print('예측:\\n', predictions)\n",
    "print('정답(y_test):\\n', y_test)"
   ]
  },
  {
   "cell_type": "code",
   "execution_count": 39,
   "metadata": {},
   "outputs": [
    {
     "name": "stdout",
     "output_type": "stream",
     "text": [
      "0.9866666666666667\n"
     ]
    }
   ],
   "source": [
    "#p268\n",
    "from sklearn.metrics import accuracy_score\n",
    "print(accuracy_score(y_test, predictions))"
   ]
  },
  {
   "cell_type": "markdown",
   "metadata": {},
   "source": [
    "### 나만의 분류자 모델"
   ]
  },
  {
   "cell_type": "code",
   "execution_count": 40,
   "metadata": {},
   "outputs": [
    {
     "name": "stdout",
     "output_type": "stream",
     "text": [
      "0.3333333333333333\n"
     ]
    }
   ],
   "source": [
    "#p269\n",
    "import random\n",
    "class myKNN():\n",
    "    def fit(self, X_train, y_train):\n",
    "        self.X_train = X_train      # X_train 데이터를 그대로 저장!\n",
    "        self.y_train = y_train      # y_train 데이터를 그대로 저장!\n",
    "    def predict(self, X_test):\n",
    "        predictions = []\n",
    "        for row in X_test:\n",
    "            label = random.choice(self.y_train)\n",
    "            predictions.append(label)\n",
    "        return predictions\n",
    "\n",
    "from sklearn import datasets\n",
    "iris = datasets.load_iris()\n",
    "X = iris.data\n",
    "y = iris.target\n",
    "from sklearn.model_selection import train_test_split\n",
    "X_train, X_test, y_train, y_test = train_test_split(X, y, test_size=.5)\n",
    "\n",
    "# from sklearn.neighbors import KNeighborsClassfier 사용하지 않고\n",
    "clf = myKNN()                            # 나만의 분류자를 사용!\n",
    "clf.fit(X_train, y_train)\n",
    "preidctions = clf.predict(X_test)\n",
    "from sklearn.metrics import accuracy_score\n",
    "print(accuracy_score(y_test, predictions))"
   ]
  },
  {
   "cell_type": "markdown",
   "metadata": {},
   "source": [
    "### 유클리디어 방식의 분류자 모델\n",
    "#### 요약 문제"
   ]
  },
  {
   "cell_type": "code",
   "execution_count": 41,
   "metadata": {},
   "outputs": [
    {
     "data": {
      "text/plain": [
       "4.242640687119285"
      ]
     },
     "execution_count": 41,
     "metadata": {},
     "output_type": "execute_result"
    }
   ],
   "source": [
    "#p270\n",
    "import numpy as np\n",
    "def euc(p1, p2):\n",
    "    return np.sqrt(np.sum(np.power(p2-p1, 2)))\n",
    "p1 = np.array([1, 1])\n",
    "p2 = np.array([4, 4])\n",
    "euc(p1, p2)"
   ]
  },
  {
   "cell_type": "code",
   "execution_count": 42,
   "metadata": {},
   "outputs": [
    {
     "data": {
      "text/plain": [
       "4.242640687119285"
      ]
     },
     "execution_count": 42,
     "metadata": {},
     "output_type": "execute_result"
    }
   ],
   "source": [
    "from scipy.spatial import distance\n",
    "def euc(a, b) :\n",
    "    return distance.euclidean(a, b)\n",
    "p1 = np.array([1, 1])\n",
    "p2 = np.array([4, 4])\n",
    "euc(p1, p2)"
   ]
  },
  {
   "cell_type": "code",
   "execution_count": 43,
   "metadata": {},
   "outputs": [
    {
     "data": {
      "text/plain": [
       "5.0990195135927845"
      ]
     },
     "execution_count": 43,
     "metadata": {},
     "output_type": "execute_result"
    }
   ],
   "source": [
    "from scipy.spatial import distance\n",
    "def euc(a, b) :\n",
    "    return distance.euclidean(a, b)\n",
    "p1 = np.array([1, 1, 3, 3])\n",
    "p2 = np.array([4, 4, 5, 5])\n",
    "euc(p1, p2)"
   ]
  },
  {
   "cell_type": "code",
   "execution_count": 44,
   "metadata": {},
   "outputs": [
    {
     "name": "stdout",
     "output_type": "stream",
     "text": [
      "0.32\n"
     ]
    }
   ],
   "source": [
    "#p271\n",
    "from scipy.spatial import distance\n",
    "def euc(a,b) :\n",
    "    return distance.euclidean(a, b)\n",
    "class eucKNN():\n",
    "    def fit(self, X_train, y_train):\n",
    "        self.X_train = X_train\n",
    "        self.y_train = y_train\n",
    "    def predict(self, X_test):\n",
    "        predictions = []\n",
    "        for row in X_test:\n",
    "            label = self.closest(row)\n",
    "            predictions.append(label)\n",
    "        return predictions\n",
    "    def closest(self, row):\n",
    "        best_dist = euc(row, self.X_train[0])\n",
    "        best_index = 0\n",
    "        for i in range(1, len(self.X_train)):\n",
    "            dist = euc(row, self.X_train[i])\n",
    "            if dist < best_dist:\n",
    "                best_dist = dist\n",
    "                best_index = 1\n",
    "        return self.y_train[best_index]\n",
    "from sklearn import datasets\n",
    "iris = datasets.load_iris()\n",
    "X = iris.data\n",
    "y = iris.target\n",
    "from sklearn.model_selection import train_test_split\n",
    "X_train, X_test, y_train, y_test = train_test_split(X, y, test_size=.5)\n",
    "clf = eucKNN()\n",
    "clf.fit(X_train, y_train)\n",
    "predictions = clf.predict(X_test)\n",
    "from sklearn.metrics import accuracy_score\n",
    "print(accuracy_score(y_test, predictions))"
   ]
  },
  {
   "cell_type": "markdown",
   "metadata": {},
   "source": [
    "## 서포트 벡터 머신"
   ]
  },
  {
   "cell_type": "markdown",
   "metadata": {},
   "source": [
    "# 추가 프로그램"
   ]
  },
  {
   "cell_type": "code",
   "execution_count": 45,
   "metadata": {},
   "outputs": [
    {
     "data": {
      "text/plain": [
       "array([14.52783293])"
      ]
     },
     "execution_count": 45,
     "metadata": {},
     "output_type": "execute_result"
    }
   ],
   "source": [
    "from sklearn import svm\n",
    "X = [[0, 0], [3, 3]]\n",
    "y = [5, 25]\n",
    "regr = svm.SVR()\n",
    "regr.fit(X, y)\n",
    "\n",
    "regr.predict([[1, 1]])"
   ]
  },
  {
   "cell_type": "code",
   "execution_count": 46,
   "metadata": {},
   "outputs": [
    {
     "name": "stdout",
     "output_type": "stream",
     "text": [
      "0.9733333333333334\n"
     ]
    }
   ],
   "source": [
    "#p272\n",
    "from sklearn import datasets\n",
    "iris = datasets.load_iris()\n",
    "X = iris.data\n",
    "y = iris.target\n",
    "from sklearn.model_selection import train_test_split\n",
    "X_train, X_test, y_train, y_test = train_test_split(X, y, test_size=.5)\n",
    "\n",
    "from sklearn import svm\n",
    "clf = svm.SVC(gamma=0.001, C=100.)\n",
    "clf.fit(X_train, y_train)\n",
    "predictions = clf.predict(X_test)\n",
    "from sklearn.metrics import accuracy_score\n",
    "print(accuracy_score(y_test, predictions))"
   ]
  },
  {
   "cell_type": "markdown",
   "metadata": {},
   "source": [
    "### [참고]"
   ]
  },
  {
   "cell_type": "code",
   "execution_count": 47,
   "metadata": {
    "scrolled": true
   },
   "outputs": [
    {
     "data": {
      "image/png": "[encoded data removed]",
      "text/plain": [
       "<Figure size 432x288 with 1 Axes>"
      ]
     },
     "metadata": {
      "needs_background": "light"
     },
     "output_type": "display_data"
    }
   ],
   "source": [
    "#p274\n",
    "import numpy as np\n",
    "points = 500\n",
    "vectors = []\n",
    "for i in range(points):\n",
    "    x1= np.random.normal(0.0, 0.5)\n",
    "    y1= x1 * 0.3 + 0.5 + np.random.normal(0.0, 0.05)\n",
    "    vectors.append([x1, y1])\n",
    "x_data = [v[0] for v in vectors]\n",
    "y_data = [v[1] for v in vectors]\n",
    "\n",
    "import matplotlib.pyplot as plt\n",
    "plt.plot(x_data, y_data, 'bo', label='Data')\n",
    "plt.legend()\n",
    "plt.show();"
   ]
  },
  {
   "cell_type": "code",
   "execution_count": 48,
   "metadata": {},
   "outputs": [
    {
     "name": "stdout",
     "output_type": "stream",
     "text": [
      "WARNING:tensorflow:From C:\\Users\\Administrator\\anaconda3\\envs\\Keras\\lib\\site-packages\\tensorflow\\python\\compat\\v2_compat.py:111: disable_resource_variables (from tensorflow.python.ops.variable_scope) is deprecated and will be removed in a future version.\n",
      "Instructions for updating:\n",
      "non-resource variables are not supported in the long term\n"
     ]
    },
    {
     "data": {
      "image/png": "[encoded data removed]",
      "text/plain": [
       "<Figure size 432x288 with 1 Axes>"
      ]
     },
     "metadata": {
      "needs_background": "light"
     },
     "output_type": "display_data"
    }
   ],
   "source": [
    "#p275\n",
    "import matplotlib.pyplot as plt\n",
    "import numpy as np\n",
    "points = 500\n",
    "vectors = []\n",
    "for i in range(points):\n",
    "    x1= np.random.normal(0.0, 0.5)\n",
    "    y1= x1 * 0.3 + 0.5 + np.random.normal(0.0, 0.05)\n",
    "    vectors.append([x1, y1])\n",
    "x_data = [v[0] for v in vectors]\n",
    "y_data = [v[1] for v in vectors]\n",
    "\n",
    "import tensorflow.compat.v1 as tf\n",
    "tf.disable_v2_behavior()\n",
    "a = tf.Variable(tf.random.uniform([1], -1.0, 1.0))\n",
    "b = tf.Variable(tf.zeros([1]))\n",
    "y = a * x_data + b\n",
    "loss = tf.reduce_mean(tf.square(y - y_data))\n",
    "optimizer = tf.train.GradientDescentOptimizer(0.5)\n",
    "train = optimizer.minimize(loss)\n",
    "init = tf.global_variables_initializer()\n",
    "sess = tf.Session()\n",
    "sess.run(init)\n",
    "%matplotlib inline\n",
    "import matplotlib.pyplot as plt\n",
    "for step in range(10):\n",
    "    sess.run(train)       \n",
    "    plt.plot(x_data, y_data, 'bo')\n",
    "    plt.plot(x_data, sess.run(a) * x_data + sess.run(b))\n",
    "plt.show()"
   ]
  },
  {
   "cell_type": "code",
   "execution_count": 49,
   "metadata": {},
   "outputs": [
    {
     "data": {
      "text/plain": [
       "<matplotlib.collections.PathCollection at 0x11b302905e0>"
      ]
     },
     "execution_count": 49,
     "metadata": {},
     "output_type": "execute_result"
    },
    {
     "data": {
      "image/png": "[encoded data removed]",
      "text/plain": [
       "<Figure size 432x288 with 1 Axes>"
      ]
     },
     "metadata": {
      "needs_background": "light"
     },
     "output_type": "display_data"
    }
   ],
   "source": [
    "# 단순선형회귀(1차방정식)\n",
    "import numpy as np\n",
    "import matplotlib.pyplot as plt\n",
    "points = 500\n",
    "vectors = []\n",
    "for i in range(points):\n",
    "    x1= np.random.normal(0.0, 0.5)\n",
    "    y1= x1 * 0.3 + 0.5 + np.random.normal(0.0, 0.05)\n",
    "    vectors.append([x1, y1])\n",
    "x_data = [v[0] for v in vectors]\n",
    "y_data = [v[1] for v in vectors]\n",
    "plt.scatter(x_data, y_data, color='blue', label='Training Data')"
   ]
  },
  {
   "cell_type": "code",
   "execution_count": 50,
   "metadata": {},
   "outputs": [
    {
     "data": {
      "image/png": "[encoded data removed]",
      "text/plain": [
       "<Figure size 432x288 with 1 Axes>"
      ]
     },
     "metadata": {
      "needs_background": "light"
     },
     "output_type": "display_data"
    }
   ],
   "source": [
    "from tensorflow.keras import models\n",
    "from tensorflow.keras import layers\n",
    "model = models.Sequential()\n",
    "model.add(layers.Dense(units=1, input_shape=[1]))\n",
    "model.compile(loss='mse', optimizer='SGD') \n",
    "history = model.fit(x_data, y_data, epochs=100, verbose=False)\n",
    "\"\"\" [3] 경계선 그래프 \"\"\"\n",
    "weights, bias = model.get_weights()\n",
    "result_line = x_data * weights[0] + bias\n",
    "plt.scatter(x_data, y_data, color='blue', label='Training Data')\n",
    "plt.plot(x_data, result_line, color='red', label='Result Line')\n",
    "plt.legend()\n",
    "plt.show()"
   ]
  },
  {
   "cell_type": "code",
   "execution_count": 51,
   "metadata": {},
   "outputs": [
    {
     "data": {
      "text/plain": [
       "[0.4588710243213093,\n",
       " -0.7056767071295379,\n",
       " 0.2640677951506879,\n",
       " -0.5203361198622772,\n",
       " 0.1677984945751576,\n",
       " 0.1671371573306774,\n",
       " -0.718256447431117,\n",
       " 0.2906796490659682,\n",
       " 0.19478264240850438,\n",
       " 0.33131382722417285,\n",
       " 1.3750591315890295,\n",
       " 0.6138906337939352,\n",
       " -0.7252668867891436,\n",
       " 0.41052012044835473,\n",
       " -0.36749134520886945,\n",
       " -0.8383267720270052,\n",
       " 0.11903348020231792,\n",
       " -0.072806913240194,\n",
       " 0.40887000184481276,\n",
       " -0.6000536585844611,\n",
       " 0.18346560226785838,\n",
       " -0.09744768368348036,\n",
       " 0.04759098864968634,\n",
       " 0.017163936654019427,\n",
       " -0.287504569172623,\n",
       " -0.6113079629318734,\n",
       " 0.8299262606508698,\n",
       " -0.2553132902896215,\n",
       " -0.39343041900838144,\n",
       " -0.5296276407467921,\n",
       " -0.03150581525821956,\n",
       " 0.033513664772605915,\n",
       " 0.1561628020309862,\n",
       " -0.5120223306959703,\n",
       " 0.7790340580389501,\n",
       " -0.2394006642660419,\n",
       " -0.7183319787982316,\n",
       " -0.7013796628055936,\n",
       " 0.7371247465735425,\n",
       " -0.08007114145481774,\n",
       " -0.24022565247565106,\n",
       " -0.16051910605761838,\n",
       " -0.15518211970690265,\n",
       " 0.4061439423919241,\n",
       " -0.3810688028386613,\n",
       " 0.09844924840417504,\n",
       " 0.0971468199841422,\n",
       " 0.2302383619808019,\n",
       " 0.0008191128107588224,\n",
       " 0.5031365173620029,\n",
       " -0.6191839330222317,\n",
       " 0.3965432612184278,\n",
       " -0.3921510236467451,\n",
       " -0.32080816933678946,\n",
       " -0.5929663051982932,\n",
       " -0.18459604278750188,\n",
       " -0.11528506090345339,\n",
       " 1.0500401938463302,\n",
       " 0.277894977429056,\n",
       " 0.377007071480607,\n",
       " 0.857564423431764,\n",
       " -0.8668478210908727,\n",
       " 0.007625096610860095,\n",
       " 0.9562658905257606,\n",
       " 0.22101693095966612,\n",
       " -0.5330691387942873,\n",
       " -0.4723704436688732,\n",
       " 0.3057835069117825,\n",
       " 0.53236409617075,\n",
       " -1.006152815985553,\n",
       " 0.2251418111099275,\n",
       " 0.0744780752931839,\n",
       " -0.3544684195400662,\n",
       " 0.639611391543157,\n",
       " -0.5979562720974009,\n",
       " -0.2183697830442231,\n",
       " -0.4135478147161166,\n",
       " -0.5756607932338715,\n",
       " 0.6654906005424968,\n",
       " 0.23817817783344403,\n",
       " -0.6251982966528001,\n",
       " -0.13732333279297304,\n",
       " 0.596044970658882,\n",
       " 0.8928256203089471,\n",
       " 0.5321319563005409,\n",
       " -0.20359032593999346,\n",
       " -0.8338376308797215,\n",
       " 0.405845185689653,\n",
       " -1.070984623222193,\n",
       " 1.1432382173880127,\n",
       " 0.7976516955123879,\n",
       " 0.09876721953400476,\n",
       " -0.31990291405838106,\n",
       " -0.16740493904575618,\n",
       " -0.16095659730121542,\n",
       " 0.2642666557854921,\n",
       " -0.33499304312667766,\n",
       " -0.33153528059642307,\n",
       " -0.4721624075754284,\n",
       " -0.2892037942769556,\n",
       " 0.7383898146775703,\n",
       " 0.07264994076627619,\n",
       " 1.0258564956988567,\n",
       " -0.7699044124956772,\n",
       " -0.27995499568566756,\n",
       " -0.07235392312166714,\n",
       " 0.07125572571280893,\n",
       " 0.299586701842617,\n",
       " -0.1535355255050085,\n",
       " 0.8349564456205466,\n",
       " 0.8321245901879563,\n",
       " -0.6568803659982247,\n",
       " 0.3128541963714114,\n",
       " 0.4320321382778976,\n",
       " 0.48566538043820173,\n",
       " -0.3338660951936259,\n",
       " -0.004783689188338028,\n",
       " -0.6752791748861788,\n",
       " -0.2789527589280297,\n",
       " -0.1976823004804634,\n",
       " 1.3776355336897013,\n",
       " 0.9259091854575889,\n",
       " -0.36374827058443265,\n",
       " 0.261081807118441,\n",
       " 0.1086664581383962,\n",
       " 0.0790875049961146,\n",
       " 0.13099609697434136,\n",
       " -0.4246992241187238,\n",
       " 0.4504994994349581,\n",
       " 0.2998493360535804,\n",
       " 0.27182347386706657,\n",
       " 0.06314960882364765,\n",
       " 0.12749608180348812,\n",
       " -0.4442672096842209,\n",
       " 0.827384004660916,\n",
       " 0.42683185407649854,\n",
       " 0.13658458200026427,\n",
       " 0.025415115455382043,\n",
       " -0.47136342576061724,\n",
       " 0.11247731217678142,\n",
       " -0.4296538404110788,\n",
       " 0.04219704036156354,\n",
       " -0.16057643199736785,\n",
       " 0.026071318162550546,\n",
       " 0.40217483652468233,\n",
       " -0.5452346862904043,\n",
       " -0.16364246065125718,\n",
       " -0.01897223985984113,\n",
       " 0.30507275163231,\n",
       " 0.3459860341006466,\n",
       " -0.5311363611624101,\n",
       " -0.7537832179351525,\n",
       " 0.29969553721076436,\n",
       " 0.02724841943012766,\n",
       " -0.008493877709749657,\n",
       " 0.5552178237059904,\n",
       " 0.7747554525381074,\n",
       " -0.46546712962229325,\n",
       " -0.2640448512132699,\n",
       " -1.7037975211646563,\n",
       " 0.20280138546101223,\n",
       " -0.29851627554243493,\n",
       " -0.22793376232667348,\n",
       " 1.4807124769736142,\n",
       " 0.543371000341959,\n",
       " 0.4284372725042544,\n",
       " -0.032329391348606275,\n",
       " -0.34742785284030414,\n",
       " -0.7558068067970735,\n",
       " 0.12527440863145942,\n",
       " 0.28870300555947737,\n",
       " -1.1053704365924044,\n",
       " 0.21990758944110286,\n",
       " -0.47749494516294616,\n",
       " 0.09266002537743932,\n",
       " -0.07309456570016125,\n",
       " -0.6328501672106627,\n",
       " -0.34316839074890126,\n",
       " 0.7033531303726378,\n",
       " -0.6994396815869691,\n",
       " 0.5785252812555439,\n",
       " 0.7378598742452891,\n",
       " -0.3524288695398192,\n",
       " -0.2115628192329904,\n",
       " 0.08654874133010401,\n",
       " 0.27056706008020964,\n",
       " 0.34883576760185386,\n",
       " 0.40135494942513006,\n",
       " -0.4309433378315937,\n",
       " 0.5184288021496349,\n",
       " 0.8670922310555568,\n",
       " -0.48214200306502986,\n",
       " 0.00585940875300259,\n",
       " -0.7255919493787116,\n",
       " 1.0394043531314592,\n",
       " -0.789256943901218,\n",
       " -0.41502569400479333,\n",
       " -0.1292969825881852,\n",
       " 0.8332100376938009,\n",
       " -0.5533733081140442,\n",
       " -0.3785483233457761,\n",
       " -0.24354333126498037,\n",
       " 0.7583313341862123,\n",
       " -0.5551602676403308,\n",
       " 0.18120619861256074,\n",
       " 0.536711297469023,\n",
       " 0.040805785810148536,\n",
       " 0.04784297567168466,\n",
       " -0.7551826531827127,\n",
       " 0.3839787521296742,\n",
       " -0.23731881328974402,\n",
       " 0.13933376277085677,\n",
       " 0.025476089801678318,\n",
       " -0.3404290311518761,\n",
       " -0.5823046930518923,\n",
       " 0.14763310404315122,\n",
       " 0.2329043571439338,\n",
       " -0.19009223040331577,\n",
       " 0.5261821283034808,\n",
       " 0.6963260186854954,\n",
       " 0.34092874669213585,\n",
       " -0.9271439636013287,\n",
       " 0.295550274034715,\n",
       " -0.052914444419600824,\n",
       " -0.46288880037503627,\n",
       " -0.020277233504015148,\n",
       " -0.2632727385498655,\n",
       " 0.3294996975550033,\n",
       " -0.2749618224160986,\n",
       " -0.15872774775403017,\n",
       " 0.03673920647357147,\n",
       " 0.16052167696123193,\n",
       " -0.47663713773331956,\n",
       " 0.4139819210931291,\n",
       " 0.9123129104752967,\n",
       " -0.23074800501419893,\n",
       " -0.09171672839056334,\n",
       " 0.7998291488087109,\n",
       " -0.48410339738188685,\n",
       " 0.970513402424445,\n",
       " -0.5964638150734909,\n",
       " 0.2383974066447908,\n",
       " 0.44663441417683886,\n",
       " -0.8585357637517604,\n",
       " -0.7454305813943038,\n",
       " -0.4144012049874837,\n",
       " -0.4323900924865634,\n",
       " 0.49888786434857596,\n",
       " 0.15464269834520294,\n",
       " -0.18196377646500256,\n",
       " -1.0340913515156158,\n",
       " 0.6279637492961885,\n",
       " -0.9653332732678715,\n",
       " 0.6229437629515923,\n",
       " -0.5082216442555678,\n",
       " -0.011157312871978818,\n",
       " 0.021148505761552295,\n",
       " 1.0758165878947392,\n",
       " -0.4825730048474853,\n",
       " -0.6941842709527318,\n",
       " 0.09400181714997226,\n",
       " 0.03456421450128253,\n",
       " -0.0049885151667784355,\n",
       " 0.11822411603314453,\n",
       " 0.304094636978059,\n",
       " 0.41151911526406326,\n",
       " 0.12451819697757495,\n",
       " -0.6064051744322887,\n",
       " 0.38042140499090404,\n",
       " -0.07990433960808241,\n",
       " 0.17759927287175037,\n",
       " -0.9417333096526433,\n",
       " -0.42924865153740394,\n",
       " 0.23456451738371834,\n",
       " -0.3810292573636975,\n",
       " -0.21994477058519388,\n",
       " 0.23174049021455384,\n",
       " -0.09317083713407451,\n",
       " 0.5825576493329432,\n",
       " -0.2905579788017803,\n",
       " -0.022782391829706292,\n",
       " 0.3241497550404067,\n",
       " -0.3458930893450336,\n",
       " 0.7719228109121578,\n",
       " -0.25099019929220445,\n",
       " -0.20161385334979184,\n",
       " 0.560519660857742,\n",
       " -0.4372609754257045,\n",
       " -0.026651146425303918,\n",
       " 0.23918770043039922,\n",
       " 1.1401271381329927,\n",
       " 0.3968989881998238,\n",
       " 0.8798175634586841,\n",
       " -0.3413283656083466,\n",
       " -0.12877436974559886,\n",
       " -0.5514700736794836,\n",
       " -0.08075317460994214,\n",
       " -0.30167530400434595,\n",
       " 0.7981986726674442,\n",
       " 0.17369328771666245,\n",
       " 0.9431744817950748,\n",
       " -0.5986352142039413,\n",
       " -0.28541402526030446,\n",
       " -1.0158763213153266,\n",
       " 0.025777600977338826,\n",
       " -0.14662298031676393,\n",
       " -0.7836478391470618,\n",
       " 0.004865257555319311,\n",
       " -0.5589175883452571,\n",
       " 0.08201338341829488,\n",
       " 0.09358976224559688,\n",
       " 0.11963023531465959,\n",
       " -0.4369822634410668,\n",
       " 0.7448340494455004,\n",
       " -0.10730604598733867,\n",
       " -0.6141667376360126,\n",
       " -0.002182728730106107,\n",
       " -0.04999529686326524,\n",
       " 0.21751906680058533,\n",
       " -0.3799986371959019,\n",
       " -0.4940709047842562,\n",
       " -0.06648945197864747,\n",
       " 0.08645906773477074,\n",
       " 0.8433422880941555,\n",
       " 0.1690893747986245,\n",
       " -0.4132409892115522,\n",
       " -0.9092748863388225,\n",
       " 0.2249187719472689,\n",
       " 0.19998819083951888,\n",
       " -0.18319300949262993,\n",
       " 0.2603845883447541,\n",
       " -0.17966512438295384,\n",
       " 0.06831263765742596,\n",
       " -1.0071930770854214,\n",
       " 0.46945004579053773,\n",
       " 0.5677596096768434,\n",
       " -0.18965658094780138,\n",
       " -0.28125935258010976,\n",
       " 0.5200435793495263,\n",
       " -0.38033850493847926,\n",
       " 0.09527177828630305,\n",
       " -0.4546223820352003,\n",
       " 0.3079460847540818,\n",
       " 0.4972833517300561,\n",
       " -0.07876182421933792,\n",
       " 0.04674059948256594,\n",
       " -1.0437608219164896,\n",
       " -0.7720423802484164,\n",
       " -0.6477332006094033,\n",
       " -0.18809863958408363,\n",
       " -0.14982005374983093,\n",
       " 0.5321112033133512,\n",
       " 0.04150570611475814,\n",
       " 0.3477322720467082,\n",
       " 0.8652810344532385,\n",
       " 0.6809893382699177,\n",
       " 0.4636159814054963,\n",
       " -0.12003408424198729,\n",
       " -0.6616588912186612,\n",
       " -0.6461501730121859,\n",
       " 0.480903542523199,\n",
       " -0.09598106880143326,\n",
       " -0.5257599279074918,\n",
       " 0.37957913874206584,\n",
       " 0.5755854374076135,\n",
       " 0.8268079005520638,\n",
       " 0.4478626454936102,\n",
       " 0.37575447953816604,\n",
       " 0.36145883289331093,\n",
       " 0.09418750902768892,\n",
       " -0.3676953388571613,\n",
       " -0.20914156056905198,\n",
       " 0.27112963209039853,\n",
       " -0.17255150072169492,\n",
       " 0.27831574238356077,\n",
       " 0.461540995167657,\n",
       " 0.08716028125132932,\n",
       " 0.8616420965470603,\n",
       " 0.7267980104116201,\n",
       " -0.3490173084643431,\n",
       " 1.0448179904080699,\n",
       " -0.14894764393996268,\n",
       " 0.45896251295060525,\n",
       " -0.1039066131178809,\n",
       " 0.03649901195438344,\n",
       " -0.2574853714856975,\n",
       " -0.28799531817964,\n",
       " 0.3236224715076255,\n",
       " -0.8499174825776504,\n",
       " -0.3376339238795792,\n",
       " -0.8950497668700689,\n",
       " 0.011523945342893006,\n",
       " 0.2750611355265569,\n",
       " -0.13278863007861788,\n",
       " 0.21394189110916415,\n",
       " 0.6452819302401059,\n",
       " -0.062320276114113914,\n",
       " -0.01430334964552278,\n",
       " -0.5288395648923917,\n",
       " 0.6885783873646222,\n",
       " -1.2808819834689151,\n",
       " -0.5688779004018673,\n",
       " -0.5031605014756484,\n",
       " 0.8127609599566044,\n",
       " -0.8704123721816492,\n",
       " 1.0553936777221136,\n",
       " 0.29583309973078925,\n",
       " -0.36877155339421297,\n",
       " 0.05185078272720981,\n",
       " 0.01785327519642477,\n",
       " 0.34872388908327606,\n",
       " 0.4436879883888469,\n",
       " 0.9389674662752897,\n",
       " -0.2054633228036442,\n",
       " 0.24256488824307185,\n",
       " 0.256490772832582,\n",
       " 0.8378153697410448,\n",
       " 0.04451809728474772,\n",
       " 0.40771652158839583,\n",
       " 0.30861990226379,\n",
       " -0.17451054930433477,\n",
       " 0.5072872539520004,\n",
       " -0.5788351121003259,\n",
       " -0.050580588214991125,\n",
       " 1.0986535786499851,\n",
       " 0.2887041548128861,\n",
       " -0.1884091083870383,\n",
       " 0.49486045133272577,\n",
       " -0.05500591702806729,\n",
       " 0.17380835042097592,\n",
       " -0.5410688007412598,\n",
       " -0.039639420625081995,\n",
       " -0.1316791979633014,\n",
       " 0.2953366572453415,\n",
       " 0.05966954915392997,\n",
       " 0.4204427060844567,\n",
       " -0.4047271741188671,\n",
       " 0.22704817436992888,\n",
       " -0.5282649240105499,\n",
       " 0.18070143569927916,\n",
       " -0.2118659890017415,\n",
       " 0.2997700620235118,\n",
       " -0.5821492869064789,\n",
       " 0.022249688171574376,\n",
       " -0.030789426264459813,\n",
       " 0.2788391946983661,\n",
       " -0.38350071552331494,\n",
       " -0.06338323605153053,\n",
       " 0.5618876992358328,\n",
       " 0.35674759069746653,\n",
       " 0.4012103115907274,\n",
       " -0.5253134335379092,\n",
       " 0.24302146158361831,\n",
       " 0.5382178460110023,\n",
       " 0.4046783746967775,\n",
       " -0.6093581480059344,\n",
       " -0.27289660267766414,\n",
       " -0.005704124286648402,\n",
       " -0.551151585060203,\n",
       " -0.898920638062148,\n",
       " -0.3776127894501455,\n",
       " 0.2570949287838769,\n",
       " 0.7252996961778441,\n",
       " 0.08091924276744017,\n",
       " -0.8957382210050474,\n",
       " 0.1065531021094154,\n",
       " -0.46529612781674434,\n",
       " 0.7105906096861999,\n",
       " 0.8232928495749869,\n",
       " 0.6924616418068447,\n",
       " 0.5010177843623579,\n",
       " -0.4257812105313276,\n",
       " 0.015431959495838424,\n",
       " 0.5948387956166243,\n",
       " 0.45691364551314406,\n",
       " -0.4325084210703635,\n",
       " -0.7558652775816356,\n",
       " 0.2665908861096359,\n",
       " 1.2039028780862435,\n",
       " -0.7626854253037355,\n",
       " -0.11129159791690683,\n",
       " -0.21802927163401764,\n",
       " 0.5696639883891714,\n",
       " -0.8994032664395146,\n",
       " 0.6007494784840989,\n",
       " -0.5881311736025069,\n",
       " -0.5064777911011182,\n",
       " -0.2277418751251065,\n",
       " -0.26712985254599786,\n",
       " -0.8077889695620664,\n",
       " 0.05764815368418934,\n",
       " 0.02941951437143281,\n",
       " -0.2619938310164807,\n",
       " 0.23691866518505023,\n",
       " 0.2854208624537228,\n",
       " -0.1386242601137586,\n",
       " -0.7874475658429458,\n",
       " 1.1029629026973025,\n",
       " -0.03249726559514019,\n",
       " -0.4083610287703736]"
      ]
     },
     "execution_count": 51,
     "metadata": {},
     "output_type": "execute_result"
    }
   ],
   "source": [
    "x_data"
   ]
  },
  {
   "cell_type": "code",
   "execution_count": 52,
   "metadata": {
    "scrolled": true
   },
   "outputs": [
    {
     "data": {
      "text/plain": [
       "array([ 0.6418841 ,  0.29391572,  0.58367664,  0.34929573,  0.55491125,\n",
       "        0.55471364,  0.29015688,  0.5916283 ,  0.56297415,  0.60376985,\n",
       "        0.9156423 ,  0.68820416,  0.28806215,  0.62743679,  0.39496595,\n",
       "        0.25427971,  0.5403402 ,  0.48301804,  0.62694373,  0.32547603,\n",
       "        0.5595926 ,  0.47565535,  0.51899309,  0.50990145,  0.4188661 ,\n",
       "        0.32211323,  0.75275589,  0.4284849 ,  0.38721532,  0.34651941,\n",
       "        0.49535886,  0.51478677,  0.55143449,  0.3517799 ,  0.73754923,\n",
       "        0.43323961,  0.29013431,  0.29519968,  0.72502668,  0.48084748,\n",
       "        0.4329931 ,  0.45680952,  0.45840422,  0.62612918,  0.39090899,\n",
       "        0.53418961,  0.53380044,  0.57356836,  0.50501759,  0.65511069,\n",
       "        0.31975988,  0.62326049,  0.38759761,  0.40891494,  0.32759374,\n",
       "        0.4496153 ,  0.47032552,  0.81852622,  0.58780822,  0.61742305,\n",
       "        0.76101421,  0.24575758,  0.50705123,  0.79050634,  0.57081299,\n",
       "        0.34549109,  0.36362794,  0.59614135,  0.66384393,  0.20413307,\n",
       "        0.57204551,  0.52702699,  0.39885722,  0.69588956,  0.32610273,\n",
       "        0.43952367,  0.38120422,  0.33276465,  0.7036223 ,  0.57594079,\n",
       "        0.31796278,  0.46374045,  0.68287186,  0.7715503 ,  0.66377456,\n",
       "        0.44393979,  0.25562107,  0.62603991,  0.18476124,  0.84637391,\n",
       "        0.74311221,  0.53428462,  0.40918543,  0.45475203,  0.4566788 ,\n",
       "        0.58373606,  0.40467648,  0.40570967,  0.3636901 ,  0.41835837,\n",
       "        0.72540468,  0.52648074,  0.8113001 ,  0.2747244 ,  0.42112192,\n",
       "        0.4831534 ,  0.52606415,  0.59428974,  0.45889623,  0.75425892,\n",
       "        0.75341275,  0.30849613,  0.59825408,  0.63386461,  0.64989029,\n",
       "        0.40501322,  0.50334347,  0.30299854,  0.42142139,  0.44570511,\n",
       "        0.91641213,  0.78143571,  0.39608438,  0.58278443,  0.53724252,\n",
       "        0.52840429,  0.54391465,  0.37787216,  0.63938268,  0.59436821,\n",
       "        0.58599405,  0.52364203,  0.54286884,  0.37202522,  0.75199626,\n",
       "        0.63231076,  0.54558449,  0.51236691,  0.36392884,  0.53838121,\n",
       "        0.37639171,  0.51738137,  0.45679239,  0.51256299,  0.62494321,\n",
       "        0.34185601,  0.45587626,  0.49910391,  0.59592898,  0.60815392,\n",
       "        0.34606861,  0.27954143,  0.59432226,  0.51291471,  0.50223486,\n",
       "        0.67067265,  0.73627078,  0.36569066,  0.4258759 , -0.00432408,\n",
       "        0.56537016,  0.41557579,  0.43666594,  0.94721166,  0.6671328 ,\n",
       "        0.63279046,  0.49511278,  0.40096095,  0.27893678,  0.542205  ,\n",
       "        0.59103768,  0.17448672,  0.57048152,  0.36209673,  0.53245978,\n",
       "        0.48293209,  0.31567639,  0.40223368,  0.71493567,  0.29577935,\n",
       "        0.67763695,  0.72524633,  0.39946664,  0.4415576 ,  0.53063372,\n",
       "        0.58561863,  0.60900542,  0.62469822,  0.37600641,  0.65968004,\n",
       "        0.76386113,  0.36070818,  0.50652364,  0.28796502,  0.81534822,\n",
       "        0.26894184,  0.38076262,  0.46613874,  0.75373709,  0.33942418,\n",
       "        0.39166211,  0.43200178,  0.73136323,  0.33889023,  0.55891749,\n",
       "        0.66514288,  0.51696566,  0.51906839,  0.27912328,  0.61950619,\n",
       "        0.43386167,  0.54640595,  0.51238513,  0.4030522 ,  0.33077944,\n",
       "        0.54888581,  0.57436497,  0.44797304,  0.66199675,  0.71283596,\n",
       "        0.6066428 ,  0.22774102,  0.59308365,  0.48896194,  0.36646107,\n",
       "        0.49871398,  0.4261066 ,  0.60322778,  0.42261389,  0.45734478,\n",
       "        0.51575056,  0.55273693,  0.36235304,  0.62847118,  0.77737313,\n",
       "        0.43582504,  0.47736776,  0.74376283,  0.36012212,  0.79476351,\n",
       "        0.32654868,  0.5760063 ,  0.63822779,  0.24824124,  0.28203721,\n",
       "        0.38094922,  0.37557412,  0.65384119,  0.55098028,  0.45040183,\n",
       "        0.195785  ,  0.69240923,  0.21633   ,  0.69090925,  0.35291555,\n",
       "        0.50143902,  0.51109204,  0.82622824,  0.3605794 ,  0.29734968,\n",
       "        0.53286071,  0.51510067,  0.50328227,  0.54009836,  0.59563672,\n",
       "        0.62773529,  0.54197904,  0.32357819,  0.61844325,  0.48089732,\n",
       "        0.55783974,  0.2233817 ,  0.37651279,  0.57486103,  0.3909208 ,\n",
       "        0.43905306,  0.5740172 ,  0.47693327,  0.67884183,  0.41795374,\n",
       "        0.49796543,  0.60162921,  0.40141954,  0.73542438,  0.42977664,\n",
       "        0.44453036,  0.67225685,  0.37411869,  0.49680944,  0.57624244,\n",
       "        0.84544432,  0.62336678,  0.76766348,  0.40278348,  0.46629489,\n",
       "        0.33999287,  0.48064369,  0.41463187,  0.74327565,  0.55667262,\n",
       "        0.78659461,  0.32589986,  0.41949076,  0.20122767,  0.51247522,\n",
       "        0.4609617 ,  0.27061785,  0.50622659,  0.33776754,  0.52927855,\n",
       "        0.53273758,  0.54051851,  0.37420197,  0.72733023,  0.47270966,\n",
       "        0.32125902,  0.50412064,  0.48983418,  0.56976782,  0.39122875,\n",
       "        0.35714381,  0.48490571,  0.53060692,  0.75676462,  0.55529697,\n",
       "        0.3812959 ,  0.23308032,  0.57197886,  0.56452957,  0.45003453,\n",
       "        0.5825761 ,  0.45108867,  0.52518475,  0.20382224,  0.64504513,\n",
       "        0.67442015,  0.44810321,  0.42073218,  0.66016254,  0.3911272 ,\n",
       "        0.53324017,  0.36893108,  0.59678753,  0.65336176,  0.48123871,\n",
       "        0.51873899,  0.19289575,  0.27408557,  0.31122932,  0.44856872,\n",
       "        0.46000641,  0.66376836,  0.5171748 ,  0.6086757 ,  0.76331994,\n",
       "        0.70825334,  0.6433019 ,  0.4689065 ,  0.3070683 ,  0.31170233,\n",
       "        0.64846745,  0.47609357,  0.34767509,  0.61819158,  0.67675852,\n",
       "        0.75182412,  0.63859478,  0.61704877,  0.61277721,  0.53291619,\n",
       "        0.394905  ,  0.44228107,  0.58578673,  0.45321423,  0.58793395,\n",
       "        0.64268189,  0.53081645,  0.76223262,  0.72194103,  0.40048602,\n",
       "        0.81696582,  0.46026709,  0.64191144,  0.47372541,  0.51567879,\n",
       "        0.42783588,  0.41871947,  0.60147166,  0.25081639,  0.40388739,\n",
       "        0.23733081,  0.50821621,  0.58696147,  0.46509543,  0.56869896,\n",
       "        0.69758392,  0.48615146,  0.50049898,  0.34675489,  0.71052096,\n",
       "        0.12204364,  0.33479138,  0.35442783,  0.74762688,  0.24469249,\n",
       "        0.82012585,  0.59316816,  0.39458342,  0.52026592,  0.51010742,\n",
       "        0.60897199,  0.63734739,  0.78533754,  0.44338013,  0.57725155,\n",
       "        0.58141262,  0.75511317,  0.51807491,  0.62659907,  0.59698887,\n",
       "        0.45262886,  0.65635093,  0.33181616,  0.4896593 ,  0.83305196,\n",
       "        0.59103802,  0.44847595,  0.65263779,  0.488337  ,  0.556707  ,\n",
       "        0.34310078,  0.49292853,  0.46542693,  0.59301982,  0.52260218,\n",
       "        0.63040167,  0.38383983,  0.57261513,  0.34692659,  0.55876667,\n",
       "        0.44146701,  0.59434453,  0.33082588,  0.51142108,  0.49557292,\n",
       "        0.58809036,  0.39018233,  0.48583385,  0.67266562,  0.61136949,\n",
       "        0.62465501,  0.3478085 ,  0.57738797,  0.66559304,  0.62569127,\n",
       "        0.32269583,  0.42323098,  0.50306844,  0.34008803,  0.23617418,\n",
       "        0.39194165,  0.58159314,  0.72149334,  0.52895162,  0.23712509,\n",
       "        0.53661105,  0.36574175,  0.71709824,  0.75077382,  0.71168128,\n",
       "        0.65447761,  0.37754886,  0.50938393,  0.68251145,  0.64129923,\n",
       "        0.37553876,  0.27891931,  0.58443055,  0.86450059,  0.27688144,\n",
       "        0.47151877,  0.43962541,  0.67498918,  0.23602997,  0.68427757,\n",
       "        0.32903848,  0.35343662,  0.43672327,  0.42495409,  0.26340445,\n",
       "        0.52199819,  0.51356343,  0.42648874,  0.57556445,  0.59005697,\n",
       "        0.46335173,  0.26948248,  0.83433959,  0.49506262,  0.38275403])"
      ]
     },
     "execution_count": 52,
     "metadata": {},
     "output_type": "execute_result"
    }
   ],
   "source": [
    "result_line"
   ]
  },
  {
   "cell_type": "code",
   "execution_count": 53,
   "metadata": {},
   "outputs": [
    {
     "name": "stdout",
     "output_type": "stream",
     "text": [
      "[[0.6541735 ]\n",
      " [0.41513246]]\n"
     ]
    },
    {
     "name": "stderr",
     "output_type": "stream",
     "text": [
      "C:\\Users\\Administrator\\anaconda3\\envs\\Keras\\lib\\site-packages\\keras\\engine\\training_v1.py:2079: UserWarning: `Model.state_updates` will be removed in a future version. This property should not be used in TensorFlow 2.0, as `updates` are applied automatically.\n",
      "  updates=self.state_updates,\n"
     ]
    }
   ],
   "source": [
    "import numpy as np\n",
    "test = np.array([[0.5], [-0.3]])\n",
    "pred = model.predict(test)\n",
    "print(pred)"
   ]
  },
  {
   "cell_type": "code",
   "execution_count": 54,
   "metadata": {
    "scrolled": true
   },
   "outputs": [
    {
     "data": {
      "text/plain": [
       "[<matplotlib.lines.Line2D at 0x11b30e50dc0>]"
      ]
     },
     "execution_count": 54,
     "metadata": {},
     "output_type": "execute_result"
    },
    {
     "data": {
      "image/png": "[encoded data removed]",
      "text/plain": [
       "<Figure size 432x288 with 1 Axes>"
      ]
     },
     "metadata": {
      "needs_background": "light"
     },
     "output_type": "display_data"
    }
   ],
   "source": [
    "plt.scatter(test, pred, color='blue', label='Training Data')\n",
    "plt.plot(x_data, result_line, color='red', label='Result Line')"
   ]
  },
  {
   "cell_type": "code",
   "execution_count": 55,
   "metadata": {},
   "outputs": [
    {
     "data": {
      "text/plain": [
       "array([[0.65417349]])"
      ]
     },
     "execution_count": 55,
     "metadata": {},
     "output_type": "execute_result"
    }
   ],
   "source": [
    "x_value = [[0.5]]\n",
    "result = x_value * weights[0] + bias\n",
    "result"
   ]
  },
  {
   "cell_type": "code",
   "execution_count": null,
   "metadata": {},
   "outputs": [],
   "source": []
  }
 ],
 "metadata": {
  "kernelspec": {
   "display_name": "Python 3 (ipykernel)",
   "language": "python",
   "name": "python3"
  },
  "language_info": {
   "codemirror_mode": {
    "name": "ipython",
    "version": 3
   },
   "file_extension": ".py",
   "mimetype": "text/x-python",
   "name": "python",
   "nbconvert_exporter": "python",
   "pygments_lexer": "ipython3",
   "version": "3.8.12"
  }
 },
 "nbformat": 4,
 "nbformat_minor": 2
}
